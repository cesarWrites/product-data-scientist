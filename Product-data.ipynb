{
 "cells": [
  {
   "cell_type": "markdown",
   "id": "6dae94b8-bfb3-48c5-9125-456f2909efdd",
   "metadata": {},
   "source": [
    "## Metrics\n",
    "To measure the success of the IG TV product it is important to define the metrics that will be considred.\n",
    "A great indicator of user approval of the IG TV product would be how much they interract with the content and the \n",
    "Important metrics that could help evaluate the perfomance of the product include.\n",
    "Number of views \n",
    "Average durationof views on videos \n",
    "Total view time on IG TV content\n",
    "Number of likes\n",
    "Comments on the videos"
   ]
  },
  {
   "cell_type": "markdown",
   "id": "badbac2a-7448-4fa3-972a-bae4210a11e6",
   "metadata": {},
   "source": [
    "This notebook uses mock data generated from chat.openai.com/?model=text-davinci-002-render-sha\n",
    "I seek to model how the total views and sample comments would help the team at Instagram to decide if IG TV is a successful product. "
   ]
  },
  {
   "cell_type": "code",
   "execution_count": 8,
   "id": "09b22a91-3575-4202-9dfc-c0cc973228a1",
   "metadata": {},
   "outputs": [],
   "source": [
    "# Import libraries\n",
    "import pandas as pd\n",
    "import matplotlib.pyplot as plt\n",
    "import numpy as np\n",
    "from sklearn.preprocessing import MinMaxScaler\n",
    "from sklearn.cluster import KMeans"
   ]
  },
  {
   "cell_type": "code",
   "execution_count": 11,
   "id": "2fc0c3d4-e281-4106-9cce-a392641c7315",
   "metadata": {},
   "outputs": [
    {
     "data": {
      "text/html": [
       "<div>\n",
       "<style scoped>\n",
       "    .dataframe tbody tr th:only-of-type {\n",
       "        vertical-align: middle;\n",
       "    }\n",
       "\n",
       "    .dataframe tbody tr th {\n",
       "        vertical-align: top;\n",
       "    }\n",
       "\n",
       "    .dataframe thead th {\n",
       "        text-align: right;\n",
       "    }\n",
       "</style>\n",
       "<table border=\"1\" class=\"dataframe\">\n",
       "  <thead>\n",
       "    <tr style=\"text-align: right;\">\n",
       "      <th></th>\n",
       "      <th>video_id</th>\n",
       "      <th>user_id</th>\n",
       "      <th>likes</th>\n",
       "      <th>views</th>\n",
       "      <th>comments</th>\n",
       "      <th>timestamp</th>\n",
       "    </tr>\n",
       "  </thead>\n",
       "  <tbody>\n",
       "    <tr>\n",
       "      <th>0</th>\n",
       "      <td>1</td>\n",
       "      <td>1</td>\n",
       "      <td>40802</td>\n",
       "      <td>109833</td>\n",
       "      <td>3849</td>\n",
       "      <td>7/5/2021</td>\n",
       "    </tr>\n",
       "    <tr>\n",
       "      <th>1</th>\n",
       "      <td>2</td>\n",
       "      <td>2</td>\n",
       "      <td>45563</td>\n",
       "      <td>932483</td>\n",
       "      <td>1745</td>\n",
       "      <td>11/2/2021</td>\n",
       "    </tr>\n",
       "    <tr>\n",
       "      <th>2</th>\n",
       "      <td>3</td>\n",
       "      <td>3</td>\n",
       "      <td>43237</td>\n",
       "      <td>169419</td>\n",
       "      <td>7698</td>\n",
       "      <td>1/5/2020</td>\n",
       "    </tr>\n",
       "    <tr>\n",
       "      <th>3</th>\n",
       "      <td>4</td>\n",
       "      <td>4</td>\n",
       "      <td>15340</td>\n",
       "      <td>475795</td>\n",
       "      <td>2547</td>\n",
       "      <td>8/9/2022</td>\n",
       "    </tr>\n",
       "    <tr>\n",
       "      <th>4</th>\n",
       "      <td>5</td>\n",
       "      <td>5</td>\n",
       "      <td>63929</td>\n",
       "      <td>80943</td>\n",
       "      <td>8048</td>\n",
       "      <td>5/5/2020</td>\n",
       "    </tr>\n",
       "  </tbody>\n",
       "</table>\n",
       "</div>"
      ],
      "text/plain": [
       "   video_id  user_id  likes   views  comments  timestamp\n",
       "0         1        1  40802  109833      3849   7/5/2021\n",
       "1         2        2  45563  932483      1745  11/2/2021\n",
       "2         3        3  43237  169419      7698   1/5/2020\n",
       "3         4        4  15340  475795      2547   8/9/2022\n",
       "4         5        5  63929   80943      8048   5/5/2020"
      ]
     },
     "execution_count": 11,
     "metadata": {},
     "output_type": "execute_result"
    }
   ],
   "source": [
    "#Load dataset\n",
    "data_df = pd.read_csv('MOCK_DATA.csv')\n",
    "data_df.head()"
   ]
  },
  {
   "cell_type": "code",
   "execution_count": 46,
   "id": "ec3e29bb-ca40-46cf-8881-f09a867dc91b",
   "metadata": {},
   "outputs": [
    {
     "data": {
      "text/html": [
       "<div>\n",
       "<style scoped>\n",
       "    .dataframe tbody tr th:only-of-type {\n",
       "        vertical-align: middle;\n",
       "    }\n",
       "\n",
       "    .dataframe tbody tr th {\n",
       "        vertical-align: top;\n",
       "    }\n",
       "\n",
       "    .dataframe thead th {\n",
       "        text-align: right;\n",
       "    }\n",
       "</style>\n",
       "<table border=\"1\" class=\"dataframe\">\n",
       "  <thead>\n",
       "    <tr style=\"text-align: right;\">\n",
       "      <th></th>\n",
       "      <th>video_id</th>\n",
       "      <th>user_id</th>\n",
       "      <th>likes</th>\n",
       "      <th>views</th>\n",
       "      <th>comments</th>\n",
       "      <th>engagement_score</th>\n",
       "      <th>success_category</th>\n",
       "    </tr>\n",
       "  </thead>\n",
       "  <tbody>\n",
       "    <tr>\n",
       "      <th>count</th>\n",
       "      <td>1000.000000</td>\n",
       "      <td>1000.000000</td>\n",
       "      <td>1000.000000</td>\n",
       "      <td>1000.000000</td>\n",
       "      <td>1000.000000</td>\n",
       "      <td>1000.000000</td>\n",
       "      <td>1000.000000</td>\n",
       "    </tr>\n",
       "    <tr>\n",
       "      <th>mean</th>\n",
       "      <td>500.500000</td>\n",
       "      <td>500.500000</td>\n",
       "      <td>0.501879</td>\n",
       "      <td>0.494727</td>\n",
       "      <td>0.525557</td>\n",
       "      <td>1.522163</td>\n",
       "      <td>1.063000</td>\n",
       "    </tr>\n",
       "    <tr>\n",
       "      <th>std</th>\n",
       "      <td>288.819436</td>\n",
       "      <td>288.819436</td>\n",
       "      <td>0.291018</td>\n",
       "      <td>0.294280</td>\n",
       "      <td>0.289457</td>\n",
       "      <td>0.506608</td>\n",
       "      <td>0.763947</td>\n",
       "    </tr>\n",
       "    <tr>\n",
       "      <th>min</th>\n",
       "      <td>1.000000</td>\n",
       "      <td>1.000000</td>\n",
       "      <td>0.000000</td>\n",
       "      <td>0.000000</td>\n",
       "      <td>0.000000</td>\n",
       "      <td>0.143100</td>\n",
       "      <td>0.000000</td>\n",
       "    </tr>\n",
       "    <tr>\n",
       "      <th>25%</th>\n",
       "      <td>250.750000</td>\n",
       "      <td>250.750000</td>\n",
       "      <td>0.243025</td>\n",
       "      <td>0.227870</td>\n",
       "      <td>0.278120</td>\n",
       "      <td>1.154928</td>\n",
       "      <td>0.000000</td>\n",
       "    </tr>\n",
       "    <tr>\n",
       "      <th>50%</th>\n",
       "      <td>500.500000</td>\n",
       "      <td>500.500000</td>\n",
       "      <td>0.508466</td>\n",
       "      <td>0.482804</td>\n",
       "      <td>0.546717</td>\n",
       "      <td>1.540288</td>\n",
       "      <td>1.000000</td>\n",
       "    </tr>\n",
       "    <tr>\n",
       "      <th>75%</th>\n",
       "      <td>750.250000</td>\n",
       "      <td>750.250000</td>\n",
       "      <td>0.745322</td>\n",
       "      <td>0.759179</td>\n",
       "      <td>0.773784</td>\n",
       "      <td>1.886628</td>\n",
       "      <td>2.000000</td>\n",
       "    </tr>\n",
       "    <tr>\n",
       "      <th>max</th>\n",
       "      <td>1000.000000</td>\n",
       "      <td>1000.000000</td>\n",
       "      <td>1.000000</td>\n",
       "      <td>1.000000</td>\n",
       "      <td>1.000000</td>\n",
       "      <td>2.823728</td>\n",
       "      <td>2.000000</td>\n",
       "    </tr>\n",
       "  </tbody>\n",
       "</table>\n",
       "</div>"
      ],
      "text/plain": [
       "          video_id      user_id        likes        views     comments  \\\n",
       "count  1000.000000  1000.000000  1000.000000  1000.000000  1000.000000   \n",
       "mean    500.500000   500.500000     0.501879     0.494727     0.525557   \n",
       "std     288.819436   288.819436     0.291018     0.294280     0.289457   \n",
       "min       1.000000     1.000000     0.000000     0.000000     0.000000   \n",
       "25%     250.750000   250.750000     0.243025     0.227870     0.278120   \n",
       "50%     500.500000   500.500000     0.508466     0.482804     0.546717   \n",
       "75%     750.250000   750.250000     0.745322     0.759179     0.773784   \n",
       "max    1000.000000  1000.000000     1.000000     1.000000     1.000000   \n",
       "\n",
       "       engagement_score  success_category  \n",
       "count       1000.000000       1000.000000  \n",
       "mean           1.522163          1.063000  \n",
       "std            0.506608          0.763947  \n",
       "min            0.143100          0.000000  \n",
       "25%            1.154928          0.000000  \n",
       "50%            1.540288          1.000000  \n",
       "75%            1.886628          2.000000  \n",
       "max            2.823728          2.000000  "
      ]
     },
     "execution_count": 46,
     "metadata": {},
     "output_type": "execute_result"
    }
   ],
   "source": [
    "data_df.describe()"
   ]
  },
  {
   "cell_type": "code",
   "execution_count": 17,
   "id": "1ba045ad-cdd5-48c9-b63d-51aa758fe86f",
   "metadata": {},
   "outputs": [],
   "source": [
    "# Preprocessing: Normalize the metrics\n",
    "scaler = MinMaxScaler()\n",
    "data_df[['likes', 'views', 'comments']] = scaler.fit_transform(data_df[['likes', 'views', 'comments']])"
   ]
  },
  {
   "cell_type": "code",
   "execution_count": 19,
   "id": "812957ed-a45a-4c07-b833-6d316352ad73",
   "metadata": {},
   "outputs": [],
   "source": [
    "# Feature engineering: Calculate a composite engagement score\n",
    "data_df['engagement_score'] = data_df['likes'] + data_df['views'] + data_df['comments']"
   ]
  },
  {
   "cell_type": "code",
   "execution_count": 21,
   "id": "0bededef-bdaf-4325-8cd5-de9b7f2c162f",
   "metadata": {},
   "outputs": [
    {
     "name": "stderr",
     "output_type": "stream",
     "text": [
      "/Users/sarah/Data-Science/env/lib/python3.9/site-packages/sklearn/cluster/_kmeans.py:1412: FutureWarning: The default value of `n_init` will change from 10 to 'auto' in 1.4. Set the value of `n_init` explicitly to suppress the warning\n",
      "  super()._check_params_vs_input(X, default_n_init=10)\n"
     ]
    }
   ],
   "source": [
    "X = data_df[['engagement_score']]\n",
    "kmeans = KMeans(n_clusters=3)  \n",
    "data_df['success_category'] = kmeans.fit_predict(X)"
   ]
  },
  {
   "cell_type": "code",
   "execution_count": 25,
   "id": "38399029-2b57-4e17-b36a-c0af015f8b61",
   "metadata": {},
   "outputs": [
    {
     "data": {
      "image/png": "[encoded data removed]",
      "text/plain": [
       "<Figure size 640x480 with 1 Axes>"
      ]
     },
     "metadata": {},
     "output_type": "display_data"
    }
   ],
   "source": [
    "# Visualize\n",
    "plt.scatter(data_df['engagement_score'], np.zeros(len(data_df)), c=data_df['success_category'], cmap='viridis')\n",
    "plt.xlabel('Engagement Score')\n",
    "plt.ylabel('Cluster')\n",
    "plt.title('IG TV Video Success Clusters')\n",
    "plt.show()"
   ]
  },
  {
   "cell_type": "code",
   "execution_count": 36,
   "id": "d862530e-432b-4216-9dc6-5c5fb4042f2e",
   "metadata": {},
   "outputs": [
    {
     "name": "stdout",
     "output_type": "stream",
     "text": [
      "     video_id  success_category\n",
      "0           1                 0\n",
      "1           2                 1\n",
      "2           3                 1\n",
      "3           4                 0\n",
      "4           5                 1\n",
      "..        ...               ...\n",
      "995       996                 1\n",
      "996       997                 1\n",
      "997       998                 2\n",
      "998       999                 2\n",
      "999      1000                 2\n",
      "\n",
      "[1000 rows x 2 columns]\n"
     ]
    }
   ],
   "source": [
    "print(data_df[['video_id', 'success_category']])"
   ]
  },
  {
   "cell_type": "markdown",
   "id": "b5293ab4-b8dc-464a-a6e3-0b3b5f3b5af2",
   "metadata": {},
   "source": [
    "This notebook accomplished the following\n",
    "Calculates an engagement score by summing the normalized values of likes, views, and comments.\n",
    "Uses K-Means clustering to cluster the videos into different success categories based on their engagement scores.\n",
    "Visualizes the clusters in a scatter plot.\n",
    "Prints the videos and their assigned success categories."
   ]
  },
  {
   "cell_type": "code",
   "execution_count": null,
   "id": "dbdc4e1f-71b9-4ab5-b20a-1adcff3c6c8d",
   "metadata": {},
   "outputs": [],
   "source": [
    "The videos to the right havea higher engagement with the audience in terms of comments, likes and views."
   ]
  },
  {
   "cell_type": "code",
   "execution_count": null,
   "id": "4b6d595a-1e99-49af-bafb-3a6665882413",
   "metadata": {},
   "outputs": [],
   "source": []
  }
 ],
 "metadata": {
  "kernelspec": {
   "display_name": "Python 3 (ipykernel)",
   "language": "python",
   "name": "python3"
  },
  "language_info": {
   "codemirror_mode": {
    "name": "ipython",
    "version": 3
   },
   "file_extension": ".py",
   "mimetype": "text/x-python",
   "name": "python",
   "nbconvert_exporter": "python",
   "pygments_lexer": "ipython3",
   "version": "3.9.6"
  }
 },
 "nbformat": 4,
 "nbformat_minor": 5
}
